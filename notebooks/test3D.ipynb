{
 "cells": [
  {
   "cell_type": "code",
   "execution_count": 1,
   "metadata": {},
   "outputs": [],
   "source": [
    "import os\n",
    "import numpy as np\n",
    "import pickle"
   ]
  },
  {
   "cell_type": "code",
   "execution_count": 2,
   "metadata": {},
   "outputs": [],
   "source": [
    "from cil.io import NikonDataReader, RAWFileWriter, TIFFStackReader, TIFFWriter\n",
    "from cil.utilities.jupyter import islicer\n",
    "from cil.utilities.display import show_geometry, show2D\n",
    "from cil.recon import FDK\n",
    "from cil.plugins.tigre import FBP, ProjectionOperator\n",
    "from cil.processors import TransmissionAbsorptionConverter, Slicer\n",
    "from cil.optimisation.algorithms import CGLS, SIRT"
   ]
  },
  {
   "cell_type": "code",
   "execution_count": null,
   "metadata": {},
   "outputs": [],
   "source": []
  }
 ],
 "metadata": {
  "kernelspec": {
   "display_name": "Python 3 (ipykernel)",
   "language": "python",
   "name": "python3"
  },
  "language_info": {
   "codemirror_mode": {
    "name": "ipython",
    "version": 3
   },
   "file_extension": ".py",
   "mimetype": "text/x-python",
   "name": "python",
   "nbconvert_exporter": "python",
   "pygments_lexer": "ipython3",
   "version": "3.10.13"
  }
 },
 "nbformat": 4,
 "nbformat_minor": 2
}
