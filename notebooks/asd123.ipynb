{
 "cells": [
  {
   "cell_type": "code",
   "execution_count": 1,
   "metadata": {},
   "outputs": [
    {
     "data": {
      "image/png": "[encoded data removed]",
      "text/plain": [
       "<Figure size 640x480 with 1 Axes>"
      ]
     },
     "metadata": {},
     "output_type": "display_data"
    }
   ],
   "source": [
    "import matplotlib.pyplot as plt\n",
    "\n",
    "# Create a sample plot\n",
    "plt.plot([1, 2, 3, 4], [1, 4, 9, 16])\n",
    "plt.xlabel('X-axis')\n",
    "plt.ylabel('Y-axis')\n",
    "\n",
    "# Flip the x-axis\n",
    "plt.xlim(plt.xlim()[::-1])\n",
    "\n",
    "# Show the plot\n",
    "plt.show()\n"
   ]
  },
  {
   "cell_type": "code",
   "execution_count": 3,
   "metadata": {},
   "outputs": [
    {
     "ename": "AttributeError",
     "evalue": "module 'matplotlib.pyplot' has no attribute 'colors'",
     "output_type": "error",
     "traceback": [
      "\u001b[0;31m---------------------------------------------------------------------------\u001b[0m",
      "\u001b[0;31mAttributeError\u001b[0m                            Traceback (most recent call last)",
      "Cell \u001b[0;32mIn[3], line 3\u001b[0m\n\u001b[1;32m      1\u001b[0m \u001b[38;5;28;01mimport\u001b[39;00m \u001b[38;5;21;01mmatplotlib\u001b[39;00m\u001b[38;5;21;01m.\u001b[39;00m\u001b[38;5;21;01mpyplot\u001b[39;00m \u001b[38;5;28;01mas\u001b[39;00m \u001b[38;5;21;01mplt\u001b[39;00m\n\u001b[1;32m      2\u001b[0m \u001b[38;5;28;01mimport\u001b[39;00m \u001b[38;5;21;01mrandom\u001b[39;00m\n\u001b[0;32m----> 3\u001b[0m color_list \u001b[38;5;241m=\u001b[39m \u001b[38;5;28mlist\u001b[39m(\u001b[43mplt\u001b[49m\u001b[38;5;241;43m.\u001b[39;49m\u001b[43mcolors\u001b[49m\u001b[38;5;241m.\u001b[39mcnames)\n",
      "\u001b[0;31mAttributeError\u001b[0m: module 'matplotlib.pyplot' has no attribute 'colors'"
     ]
    }
   ],
   "source": [
    "import matplotlib.pyplot as plt\n",
    "import random\n",
    "color_list = list(plt.colors.cnames)"
   ]
  },
  {
   "cell_type": "code",
   "execution_count": null,
   "metadata": {},
   "outputs": [],
   "source": []
  },
  {
   "cell_type": "code",
   "execution_count": 20,
   "metadata": {},
   "outputs": [
    {
     "name": "stdout",
     "output_type": "stream",
     "text": [
      "[ 0  4  5  8  9 11]\n",
      "0 4\n",
      "4 5\n",
      "5 8\n",
      "8 9\n",
      "9 11\n",
      "[1.   1.25 1.5  1.75 2.   7.   5.   3.   1.   5.   4.   3.  ]\n"
     ]
    }
   ],
   "source": [
    "import numpy as np\n",
    "\n",
    "def linear_interpolate_below_threshold(column, threshold):\n",
    "    \"\"\"\n",
    "    Linearly interpolate values in a column below a given threshold.\n",
    "\n",
    "    Parameters:\n",
    "    - column: A numpy array representing a single column where interpolation is needed.\n",
    "    - threshold: The threshold below which values need to be interpolated.\n",
    "\n",
    "    Returns:\n",
    "    A numpy array with the interpolated column.\n",
    "    \"\"\"\n",
    "    # Convert column to a numpy array to ensure numpy operations can be performed\n",
    "    column = np.array(column)\n",
    "    # Identify indices where values are above the threshold\n",
    "    above_threshold_indices = np.where(column > threshold)[0]\n",
    "    print(above_threshold_indices)\n",
    "    if len(above_threshold_indices) < 2:\n",
    "        # If there are less than two points above the threshold,\n",
    "        # interpolation cannot be performed, return original column\n",
    "        return column\n",
    "\n",
    "    # Loop from the second 'above threshold' index to the last\n",
    "    for start, end in zip(above_threshold_indices[:-1], above_threshold_indices[1:]):\n",
    "        # Linearly interpolate between start and end indices\n",
    "        print(start,end)\n",
    "        column[start:end + 1] = np.linspace(column[start], column[end], end - start + 1)\n",
    "\n",
    "    return column\n",
    "\n",
    "def interpolate_array_below_threshold(A, threshold):\n",
    "    \"\"\"\n",
    "    Apply linear interpolation to columns of array A for values below a threshold.\n",
    "\n",
    "    Parameters:\n",
    "    - A: A numpy 2D array where each column needs to be checked for interpolation.\n",
    "    - threshold: The threshold below which values need to be interpolated.\n",
    "\n",
    "    Returns:\n",
    "    A numpy 2D array with interpolated columns.\n",
    "    \"\"\"\n",
    "    A = np.array(A)  # Ensure A is a numpy array\n",
    "    for i in range(A.shape[1]):  # Iterate over columns\n",
    "        A[:, i] = linear_interpolate_below_threshold(A[:, i], threshold)\n",
    "    return A\n",
    "\n",
    "# Example usage\n",
    "# A = np.array([[1, 0, 0, 0, 2, 7, 0, 0, 1]],dtype=np.float32).T  # Example column, transposed to column vector\n",
    "A = np.array([[1,0,0,0,2,7,0,0,1,5,0,3]],dtype=np.float32).T\n",
    "threshold = 0.5\n",
    "interpolated_A = interpolate_array_below_threshold(A, threshold)\n",
    "print(interpolated_A.flatten())  # Use flatten to print as a single row for comparison\n"
   ]
  },
  {
   "cell_type": "code",
   "execution_count": 28,
   "metadata": {},
   "outputs": [
    {
     "name": "stdout",
     "output_type": "stream",
     "text": [
      "[ 1  2  3  6  7 10]\n",
      "[1 1 3 1 3]\n",
      "[2 4]\n",
      "[[1, 2, 3], [6, 7], [10]]\n",
      "[1.   1.25 1.5  1.75 2.   7.   5.   3.   1.   5.   4.   3.  ]\n"
     ]
    }
   ],
   "source": [
    "import numpy as np\n",
    "\n",
    "# Your initial vector and threshold\n",
    "a = np.array([1,0,0,0,2,7,0,0,1,5,0,3], dtype=np.float32)\n",
    "tau = 0.5\n",
    "\n",
    "# Find indices below the threshold\n",
    "below_tau_idx = np.where(a < tau)[0]\n",
    "\n",
    "# Find the differences between consecutive indices\n",
    "diffs = np.diff(below_tau_idx)\n",
    "\n",
    "# Find where the difference is greater than 1 (i.e., breaks in consecutive sequences)\n",
    "breaks = np.where(diffs > 1)[0]\n",
    "\n",
    "# Use these breaks to split the indices into groups of consecutive indices\n",
    "groups = np.split(below_tau_idx, breaks + 1)  # Add 1 because np.split expects positions in the array\n",
    "\n",
    "# Convert the resulting arrays into lists for easier reading/manipulation, if desired\n",
    "groups = [list(group) for group in groups]\n",
    "\n",
    "print(below_tau_idx)\n",
    "print(diffs)\n",
    "print(breaks)\n",
    "print(groups)\n",
    "\n",
    "b = a\n",
    "for group in groups:\n",
    "    lval = a[group[0]-1]\n",
    "    rval = a[group[-1]+1]\n",
    "    # if group[0] == 0:\n",
    "    #     lval = rval\n",
    "    # if group[-1] == a.size-1:\n",
    "    #     rval = lval\n",
    "    \n",
    "    b[group] = (rval-lval)/((group[-1]+1) - (group[0]-1)) * (group - (group[0]-1)) + lval\n",
    "print(b)"
   ]
  },
  {
   "cell_type": "code",
   "execution_count": 43,
   "metadata": {},
   "outputs": [
    {
     "name": "stdout",
     "output_type": "stream",
     "text": [
      "[[0.  0. ]\n",
      " [1.  1. ]\n",
      " [2.  2. ]\n",
      " [3.  3. ]\n",
      " [3.2 3.2]\n",
      " [1.5 1.5]\n",
      " [0.  0. ]\n",
      " [3.  3. ]\n",
      " [1.  1. ]\n",
      " [5.  5. ]\n",
      " [0.  0. ]\n",
      " [0.  0. ]]\n",
      "[2 3 4 7 9]\n",
      "[1 1 3 2]\n",
      "[2 3]\n",
      "[[2, 3, 4], [7], [9]]\n",
      "[2 3 4 7 9]\n",
      "[1 1 3 2]\n",
      "[2 3]\n",
      "[[2, 3, 4], [7], [9]]\n"
     ]
    },
    {
     "data": {
      "text/plain": [
       "array([[0.   , 0.   ],\n",
       "       [1.   , 1.   ],\n",
       "       [1.125, 1.125],\n",
       "       [1.25 , 1.25 ],\n",
       "       [1.375, 1.375],\n",
       "       [1.5  , 1.5  ],\n",
       "       [0.   , 0.   ],\n",
       "       [0.5  , 0.5  ],\n",
       "       [1.   , 1.   ],\n",
       "       [0.5  , 0.5  ],\n",
       "       [0.   , 0.   ],\n",
       "       [0.   , 0.   ]], dtype=float32)"
      ]
     },
     "execution_count": 43,
     "metadata": {},
     "output_type": "execute_result"
    }
   ],
   "source": [
    "def lin_interp_sino2D(data,tau):\n",
    "    def lin_interp_proj(proj):\n",
    "        above_tau_indices = np.where(proj > tau)[0]\n",
    "        diffs = np.diff(above_tau_indices)\n",
    "        breaks = np.where(diffs > 1)[0]\n",
    "        groups = np.split(above_tau_indices, breaks+1)\n",
    "        groups = [list(group) for group in groups]\n",
    "\n",
    "        print(above_tau_indices)\n",
    "        print(diffs)\n",
    "        print(breaks)\n",
    "        print(groups)\n",
    "        for group in groups:\n",
    "            if group[0] == 0:\n",
    "                lval = tau\n",
    "            else:\n",
    "                lval = proj[group[0]-1]\n",
    "            if group[-1] == proj.size-1:\n",
    "                rval = tau\n",
    "            else:\n",
    "                rval = proj[group[-1]+1]\n",
    "            \n",
    "            proj[group] = (rval-lval)/((group[-1]+1) - (group[0]-1)) * (group - (group[0]-1)) + lval\n",
    "        return proj\n",
    "    \n",
    "    data_interp = np.apply_along_axis(func1d=lin_interp_proj, axis=0, arr=data)\n",
    "    return data_interp\n",
    "\n",
    "# A = np.array([[1,0,0,0,2,7,0,0,1,5,0,3],[0,0,3,4,5,0,0,2,0,8,0,1]], dtype=np.float32).T\n",
    "# A = np.array([[1,0,0,0,2,7,0,0,1,5,0,3]], dtype=np.float32).T\n",
    "A = np.array([[0,1,2,3,3.2,1.5,0,3,1,5,0,0],[0,1,2,3,3.2,1.5,0,3,1,5,0,0]], dtype=np.float32).T\n",
    "print(A)\n",
    "lin_interp_sino2D(A,1.7)"
   ]
  },
  {
   "cell_type": "code",
   "execution_count": 6,
   "metadata": {},
   "outputs": [
    {
     "name": "stdout",
     "output_type": "stream",
     "text": [
      "[0 4 5 8]\n",
      "[-1  0  4  5  8  9]\n",
      "[1 1 1 1 2 7 5 3 1]\n"
     ]
    }
   ],
   "source": [
    "import numpy as np\n",
    "\n",
    "def interpolate_below_threshold(column, threshold):\n",
    "    # Ensure the column is a NumPy array\n",
    "    column = np.asarray(column)\n",
    "    # Placeholder array for the output\n",
    "    output = column.copy()\n",
    "    # Find indices where the value is above the threshold\n",
    "    above_threshold_indices = np.where(column > threshold)[0]\n",
    "    print(above_threshold_indices)\n",
    "    \n",
    "    # Add start and end indices to handle edge cases\n",
    "    extended_indices = np.concatenate(([-1], above_threshold_indices, [len(column)]))\n",
    "    print(extended_indices)\n",
    "    \n",
    "    for i in range(len(extended_indices) - 1):\n",
    "        start_index = extended_indices[i] + 1\n",
    "        end_index = extended_indices[i + 1]\n",
    "        \n",
    "        # Check if the segment should be interpolated (i.e., more than 2 elements and below threshold)\n",
    "        if end_index - start_index > 1:\n",
    "            # Linearly interpolate\n",
    "            start_value = column[start_index - 1] if start_index > 0 else 0\n",
    "            end_value = column[end_index] if end_index < len(column) else column[-1]\n",
    "            \n",
    "            slope = (end_value - start_value) / (end_index - start_index + 1)\n",
    "            \n",
    "            for j in range(start_index, end_index):\n",
    "                output[j] = start_value + slope * (j - start_index + 1)\n",
    "    \n",
    "    return output\n",
    "\n",
    "# Example usage\n",
    "column = np.array([1, 0, 0, 0, 2, 7, 0, 0, 1])\n",
    "threshold = 0.5\n",
    "interpolated_column = interpolate_below_threshold(column, threshold)\n",
    "print(interpolated_column)\n"
   ]
  },
  {
   "cell_type": "code",
   "execution_count": 1,
   "metadata": {},
   "outputs": [
    {
     "name": "stdout",
     "output_type": "stream",
     "text": [
      "[[1]\n",
      " [1]\n",
      " [1]\n",
      " [1]\n",
      " [2]\n",
      " [7]\n",
      " [5]\n",
      " [3]\n",
      " [1]]\n"
     ]
    }
   ],
   "source": [
    "import numpy as np\n",
    "\n",
    "def linear_interpolate_below_threshold(arr, tau):\n",
    "    nrows, ncols = arr.shape\n",
    "    for col in range(ncols):\n",
    "        start = None  # Start index for interpolation\n",
    "        for row in range(nrows):\n",
    "            if arr[row, col] > tau:\n",
    "                if start is not None:\n",
    "                    # Perform interpolation between start and row\n",
    "                    end_val = arr[row, col]\n",
    "                    start_val = arr[start, col]\n",
    "                    step = (end_val - start_val) / (row - start)\n",
    "                    for i in range(start + 1, row):\n",
    "                        arr[i, col] = start_val + step * (i - start)\n",
    "                    start = None  # Reset start index\n",
    "                else:\n",
    "                    # Not in interpolation range, move along\n",
    "                    continue\n",
    "            else:\n",
    "                if start is None:  # Check if we've started a sequence below tau\n",
    "                    start = row - 1 if row > 0 else 0  # Mark the start of a sequence needing interpolation\n",
    "\n",
    "        # Handle trailing values below threshold, assuming linear continuation\n",
    "        if start is not None and start < nrows - 1:\n",
    "            arr[start + 1:, col] = np.linspace(arr[start, col], arr[start, col] + (arr[start, col] - arr[start - 1, col]), nrows - start - 1)\n",
    "\n",
    "    return arr\n",
    "\n",
    "# Example usage\n",
    "A = np.array([[1, 0, 0, 0, 2, 7, 0, 0, 1]]).T  # .T to make it a column in the example\n",
    "tau = 0.5\n",
    "interpolated_A = linear_interpolate_below_threshold(A, tau)\n",
    "print(interpolated_A)\n"
   ]
  }
 ],
 "metadata": {
  "kernelspec": {
   "display_name": "Python 3 (ipykernel)",
   "language": "python",
   "name": "python3"
  },
  "language_info": {
   "codemirror_mode": {
    "name": "ipython",
    "version": 3
   },
   "file_extension": ".py",
   "mimetype": "text/x-python",
   "name": "python",
   "nbconvert_exporter": "python",
   "pygments_lexer": "ipython3",
   "version": "3.10.13"
  }
 },
 "nbformat": 4,
 "nbformat_minor": 2
}
