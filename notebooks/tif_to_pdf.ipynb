{
 "cells": [
  {
   "cell_type": "code",
   "execution_count": 12,
   "metadata": {},
   "outputs": [],
   "source": [
    "from PIL import Image\n",
    "import numpy as np"
   ]
  },
  {
   "cell_type": "code",
   "execution_count": 13,
   "metadata": {},
   "outputs": [],
   "source": [
    "# im = Image.open('/dtu/3d-imaging-center/projects/2022_DANFIX_Vindelev/raw_data_3DIM/VKH8206-X20 [2022-02-08 10.27.26]/VKH8206-X20_1193.tif')\n",
    "# print(im)\n",
    "# im2 = im.convert('L')\n",
    "# im2.save('plots/X20_1193.pdf', 'PDF', resolution=100.0)"
   ]
  },
  {
   "cell_type": "code",
   "execution_count": 29,
   "metadata": {},
   "outputs": [],
   "source": [
    "# def save_raw_proj(path_in, path_out):\n",
    "#     tiff_image = Image.open(path_in)\n",
    "\n",
    "#     # Ensure image is in mode 'I;16'\n",
    "#     if tiff_image.mode == 'I;16':\n",
    "#         # Convert the image data to a numpy array for manipulation\n",
    "#         image_array = np.array(tiff_image)\n",
    "\n",
    "#         # Scale the image data to 8-bit (0-255 range)\n",
    "#         scaled_image_array = (image_array / 256).astype(np.uint8)\n",
    "\n",
    "#         # Create a new Image from the scaled array\n",
    "#         converted_image = Image.fromarray(scaled_image_array, 'L')\n",
    "#     else:\n",
    "#         converted_image = tiff_image.convert('L')\n",
    "\n",
    "#     # Save the image as a PNG\n",
    "#     converted_image.save(path_out)\n",
    "\n",
    "#     # Save the image as a PDF\n",
    "#     # converted_image.save(path_out, 'PDF', resolution=100.0)\n",
    "\n",
    "def save_raw_proj(path_in, path_out):\n",
    "    tiff_image = Image.open(path_in)\n",
    "    image_array = np.array(tiff_image)\n",
    "    np.save(f'{path_out}.npy', image_array)"
   ]
  },
  {
   "cell_type": "code",
   "execution_count": 31,
   "metadata": {},
   "outputs": [],
   "source": [
    "proj = ['0785', '1193'][1]\n",
    "path_in = f'/dtu/3d-imaging-center/projects/2022_DANFIX_Vindelev/raw_data_3DIM/VKH8206-X20 [2022-02-08 10.27.26]/VKH8206-X20_{proj}.tif'\n",
    "path_out = f'plots/X20_raw_{proj}'\n",
    "save_raw_proj(path_in, path_out)"
   ]
  },
  {
   "cell_type": "code",
   "execution_count": 26,
   "metadata": {},
   "outputs": [],
   "source": [
    "tiff_image = Image.open(path_in)"
   ]
  },
  {
   "cell_type": "code",
   "execution_count": 27,
   "metadata": {},
   "outputs": [],
   "source": [
    "image_array = np.array(tiff_image)"
   ]
  },
  {
   "cell_type": "code",
   "execution_count": 28,
   "metadata": {},
   "outputs": [
    {
     "data": {
      "text/plain": [
       "array([[60256, 60346, 60632, ..., 60462, 60124, 59652],\n",
       "       [60469, 60565, 60598, ..., 59745, 60409, 60126],\n",
       "       [60899, 61275, 60683, ..., 60482, 60144, 61309],\n",
       "       ...,\n",
       "       [39171, 39235, 38982, ..., 36881, 37949, 38213],\n",
       "       [39337, 38588, 39075, ..., 35981, 36668, 36530],\n",
       "       [38227, 38344, 37687, ..., 35111, 35833, 35512]], dtype=uint16)"
      ]
     },
     "execution_count": 28,
     "metadata": {},
     "output_type": "execute_result"
    }
   ],
   "source": [
    "image_array"
   ]
  }
 ],
 "metadata": {
  "kernelspec": {
   "display_name": "Python 3 (ipykernel)",
   "language": "python",
   "name": "python3"
  },
  "language_info": {
   "codemirror_mode": {
    "name": "ipython",
    "version": 3
   },
   "file_extension": ".py",
   "mimetype": "text/x-python",
   "name": "python",
   "nbconvert_exporter": "python",
   "pygments_lexer": "ipython3",
   "version": "3.10.13"
  }
 },
 "nbformat": 4,
 "nbformat_minor": 2
}
