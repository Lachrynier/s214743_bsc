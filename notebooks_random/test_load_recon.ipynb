{
 "cells": [
  {
   "cell_type": "code",
   "execution_count": 4,
   "metadata": {},
   "outputs": [],
   "source": [
    "import os\n",
    "import numpy as np\n",
    "import pickle\n",
    "import copy\n",
    "import matplotlib.pyplot as plt"
   ]
  },
  {
   "cell_type": "code",
   "execution_count": 5,
   "metadata": {},
   "outputs": [],
   "source": [
    "from cil.io import NikonDataReader, RAWFileWriter, TIFFStackReader, TIFFWriter\n",
    "from cil.utilities.jupyter import islicer\n",
    "from cil.utilities.display import show_geometry, show2D\n",
    "from cil.recon import FDK\n",
    "from cil.plugins.tigre import FBP, ProjectionOperator\n",
    "from cil.processors import TransmissionAbsorptionConverter, Slicer, CentreOfRotationCorrector\n",
    "from cil.optimisation.algorithms import CGLS, SIRT\n",
    "from cil.framework import ImageData, ImageGeometry, AcquisitionData, AcquisitionGeometry"
   ]
  },
  {
   "cell_type": "code",
   "execution_count": 9,
   "metadata": {},
   "outputs": [
    {
     "name": "stdout",
     "output_type": "stream",
     "text": [
      "Number of dimensions: 3\n",
      "Shape: (1000, 1000, 1000)\n",
      "Axis labels: ('vertical', 'horizontal_y', 'horizontal_x')\n",
      "\n"
     ]
    }
   ],
   "source": [
    "base_dir = os.path.abspath('/dtu/3d-imaging-center/projects/2022_DANFIX_Vindelev/analysis/s214743_bsc/')\n",
    "file_path = os.path.join(base_dir,'bjobs/X20_bhc_recon_full.pkl')\n",
    "with open(file_path, 'rb') as file:\n",
    "    recon_bhc = pickle.load(file)\n",
    "\n",
    "print(recon_bhc)"
   ]
  },
  {
   "cell_type": "code",
   "execution_count": 11,
   "metadata": {},
   "outputs": [
    {
     "data": {
      "application/vnd.jupyter.widget-view+json": {
       "model_id": "4f6f1e1be4354986b9536d213ed66b14",
       "version_major": 2,
       "version_minor": 0
      },
      "text/plain": [
       "HBox(children=(Output(), Box(children=(Play(value=500, interval=500, max=999), VBox(children=(Label(value='Sli…"
      ]
     },
     "metadata": {},
     "output_type": "display_data"
    }
   ],
   "source": [
    "islicer(recon_bhc, size=(10,10))"
   ]
  }
 ],
 "metadata": {
  "kernelspec": {
   "display_name": "Python 3 (ipykernel)",
   "language": "python",
   "name": "python3"
  },
  "language_info": {
   "codemirror_mode": {
    "name": "ipython",
    "version": 3
   },
   "file_extension": ".py",
   "mimetype": "text/x-python",
   "name": "python",
   "nbconvert_exporter": "python",
   "pygments_lexer": "ipython3",
   "version": "3.10.13"
  }
 },
 "nbformat": 4,
 "nbformat_minor": 2
}
